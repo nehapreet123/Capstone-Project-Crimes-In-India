{
 "cells": [
  {
   "cell_type": "markdown",
   "id": "6abd5542",
   "metadata": {},
   "source": [
    "# Phase 3: SQL Queries"
   ]
  },
  {
   "cell_type": "markdown",
   "id": "357a34ec",
   "metadata": {},
   "source": [
    "# Operations With SQL"
   ]
  },
  {
   "cell_type": "markdown",
   "id": "96ae1027",
   "metadata": {},
   "source": [
    "# Name : Neha.Pothiwal\n",
    "Batch : DSG0723"
   ]
  },
  {
   "cell_type": "code",
   "execution_count": 1,
   "id": "2a208fb6",
   "metadata": {},
   "outputs": [],
   "source": [
    "import sqlite3\n",
    "import csv\n",
    "import pandas as pd"
   ]
  },
  {
   "cell_type": "code",
   "execution_count": 2,
   "id": "e880aee3",
   "metadata": {},
   "outputs": [],
   "source": [
    "db=sqlite3.connect(\"crime_database\")"
   ]
  },
  {
   "cell_type": "code",
   "execution_count": 4,
   "id": "828c70de",
   "metadata": {},
   "outputs": [],
   "source": [
    "cursor=db.cursor()"
   ]
  },
  {
   "cell_type": "code",
   "execution_count": 5,
   "id": "2fe2626d",
   "metadata": {},
   "outputs": [],
   "source": [
    "cursor.execute(\"CREATE TABLE crime_against_women_new1(state UT TEXT,DISTRICT TEXT,Year INT,Rape INT,Kidnapping INT,Dowry Deaths INT,Assault INT,Insult  INT,Cruelty by Husband  INT,Importation of Girls INT) \")\n",
    "db.commit()"
   ]
  },
  {
   "cell_type": "markdown",
   "id": "76f63818",
   "metadata": {},
   "source": [
    "# 3.1 Creating a table with the entries from 42_District_wise_crimes_committed_against_women_2001_2012.csv."
   ]
  },
  {
   "cell_type": "code",
   "execution_count": 9,
   "id": "cae6f7f5",
   "metadata": {},
   "outputs": [],
   "source": [
    "with open('42_District_wise_crimes_committed_against_women_2001_2012.csv','r') as file :\n",
    "    #r here is read as\n",
    "    no_records=0\n",
    "    for row in file:\n",
    "        cursor.execute(\"INSERT INTO crime_against_women_new1 VALUES(?,?,?,?,?,?,?,?,?,?)\",row.split(\",\"))#it will split the data row.split\n",
    "        db.commit()\n",
    "        no_records += 1"
   ]
  },
  {
   "cell_type": "code",
   "execution_count": 10,
   "id": "41f529ac",
   "metadata": {},
   "outputs": [
    {
     "name": "stdout",
     "output_type": "stream",
     "text": [
      "9018 Records Inserted\n"
     ]
    }
   ],
   "source": [
    "print(no_records,'Records Inserted')"
   ]
  },
  {
   "cell_type": "markdown",
   "id": "590f7d43",
   "metadata": {},
   "source": [
    "# 3.2 Creating an SQL query to determine which state, district, and year had the most number of rapes and kidnappings."
   ]
  },
  {
   "cell_type": "code",
   "execution_count": 11,
   "id": "45eb865f",
   "metadata": {},
   "outputs": [
    {
     "name": "stdout",
     "output_type": "stream",
     "text": [
      "('\"STATE/UT\"', '\"DISTRICT\"', '\"Year\"', '\"Rape\"', '\"Kidnapping and Abduction\"')\n",
      "('\"UTTAR PRADESH\"', '\"TOTAL\"', 2012, 3425, 7910)\n",
      "('\"UTTAR PRADESH\"', '\"TOTAL\"', 2011, 3406, 7525)\n",
      "('\"UTTAR PRADESH\"', '\"TOTAL\"', 2010, 3135, 5468)\n",
      "('\"UTTAR PRADESH\"', '\"TOTAL\"', 2009, 2998, 5078)\n",
      "('\"UTTAR PRADESH\"', '\"TOTAL\"', 2008, 2937, 4439)\n",
      "('\"UTTAR PRADESH\"', '\"TOTAL\"', 2007, 3010, 3363)\n",
      "('\"UTTAR PRADESH\"', '\"TOTAL\"', 2001, 2851, 2879)\n",
      "('\"UTTAR PRADESH\"', '\"TOTAL\"', 2006, 2900, 2551)\n",
      "('\"UTTAR PRADESH\"', '\"TOTAL\"', 2004, 2875, 2324)\n",
      "('\"UTTAR PRADESH\"', '\"TOTAL\"', 2002, 2891, 2298)\n",
      "('\"UTTAR PRADESH\"', '\"TOTAL\"', 2005, 2921, 2256)\n",
      "('\"RAJASTHAN\"', '\"TOTAL\"', 2003, 2738, 1750)\n"
     ]
    }
   ],
   "source": [
    "result=cursor.execute(\"SELECT  state UT, DISTRICT ,Year ,MAX(Rape), MAX(Kidnapping) FROM crime_against_women_new1 WHERE NOT DISTRICT='TOTAL' AND NOT DISTRICT='DELHI UT TOTAL' GROUP BY Year ORDER BY Kidnapping DESC\")\n",
    "for row in result:\n",
    "    print(row)"
   ]
  },
  {
   "cell_type": "markdown",
   "id": "12502336",
   "metadata": {},
   "source": [
    "The highest district and state in terms of rape and kidnapping incidents is Murshidabad District in West Bengal (which had 568 rape cases and 492 kidnapping cases in 2011)."
   ]
  },
  {
   "cell_type": "markdown",
   "id": "3d889680",
   "metadata": {},
   "source": [
    "# 3.3 Creating an SQL query to determine which state, district, and year had the fewest rapes and kidnappings."
   ]
  },
  {
   "cell_type": "code",
   "execution_count": 12,
   "id": "0a57edc8",
   "metadata": {},
   "outputs": [
    {
     "name": "stdout",
     "output_type": "stream",
     "text": [
      "('\"A & N ISLANDS\"', '\"NICOBAR\"', 2001, 0, 0)\n",
      "('\"ANDHRA PRADESH\"', '\"GUNTAKAL RLY.\"', 2001, 0, 0)\n",
      "('\"ARUNACHAL PRADESH\"', '\"TAWANG\"', 2001, 0, 0)\n",
      "('\"ASSAM\"', '\"C.I.D.\"', 2001, 0, 0)\n",
      "('\"BIHAR\"', '\"ARWAL\"', 2001, 0, 0)\n",
      "('\"CHHATTISGARH\"', '\"BIZAPUR\"', 2001, 0, 0)\n",
      "('\"DAMAN & DIU\"', '\"DIU\"', 2001, 0, 0)\n",
      "('\"DELHI\"', '\"S.T.F.\"', 2001, 0, 0)\n",
      "('\"GUJARAT\"', '\"W.RLY\"', 2001, 0, 0)\n",
      "('\"HARYANA\"', '\"GRP\"', 2002, 0, 0)\n",
      "('\"HIMACHAL PRADESH\"', '\"G.R.P.\"', 2001, 0, 0)\n",
      "('\"JAMMU & KASHMIR\"', '\"CRIME JAMMU\"', 2001, 0, 0)\n",
      "('\"JHARKHAND\"', '\"DEOGHAR\"', 2001, 0, 0)\n",
      "('\"KARNATAKA\"', '\"CHITRADURGA\"', 2001, 0, 0)\n",
      "('\"KERALA\"', '\"CBCID\"', 2001, 0, 0)\n",
      "('\"LAKSHADWEEP\"', '\"LAKSHADWEEP\"', 2001, 0, 0)\n",
      "('\"MADHYA PRADESH\"', '\"INDORE RLY.\"', 2001, 0, 0)\n",
      "('\"MAHARASHTRA\"', '\"MUMBAI RLY.\"', 2001, 0, 0)\n",
      "('\"MANIPUR\"', '\"CHURACHANDPUR\"', 2001, 0, 0)\n",
      "('\"MEGHALAYA\"', '\"GARO HILLS EAST\"', 2001, 0, 0)\n",
      "('\"MIZORAM\"', '\"AIZAWL\"', 2001, 0, 0)\n",
      "('\"NAGALAND\"', '\"KIPHIRE\"', 2001, 0, 0)\n",
      "('\"ODISHA\"', '\"RAYAGADA\"', 2001, 0, 0)\n",
      "('\"PUDUCHERRY\"', '\"KARAIKAL\"', 2011, 0, 0)\n",
      "('\"PUNJAB\"', '\"G.R.P\"', 2001, 0, 0)\n",
      "('\"RAJASTHAN\"', '\"G.R.P.\"', 2003, 0, 0)\n",
      "('\"SIKKIM\"', '\"NORTH\"', 2001, 0, 0)\n",
      "('\"TAMIL NADU\"', '\"CHENNAI\"', 2001, 0, 0)\n",
      "('\"TRIPURA\"', '\"DHALAI\"', 2001, 0, 0)\n",
      "('\"UTTAR PRADESH\"', '\"MAHARAJGANJ\"', 2002, 0, 0)\n",
      "('\"UTTARAKHAND\"', '\"NAINITAL\"', 2001, 0, 0)\n",
      "('\"WEST BENGAL\"', '\"ASANSOL\"', 2001, 0, 0)\n",
      "('\"GOA\"', '\"NORTH GOA\"', 2001, 3, 1)\n",
      "('\"D & N HAVELI\"', '\"D and N HAVELI\"', 2001, 1, 2)\n",
      "('\"CHANDIGARH\"', '\"CHANDIGARH\"', 2003, 18, 28)\n",
      "('\"STATE/UT\"', '\"DISTRICT\"', '\"Year\"', '\"Rape\"', '\"Kidnapping and Abduction\"')\n"
     ]
    }
   ],
   "source": [
    "result=cursor.execute(\"SELECT  state UT, DISTRICT ,Year ,MIN(Rape), MIN(Kidnapping) FROM crime_against_women_new1 WHERE NOT DISTRICT='TOTAL' AND NOT DISTRICT='DELHI UT TOTAL' GROUP BY UT ORDER BY Kidnapping\")\n",
    "for row in result:\n",
    "    print(row)"
   ]
  },
  {
   "cell_type": "markdown",
   "id": "f6cf9215",
   "metadata": {},
   "source": [
    "The aforementioned results indicate the lowest number of rapes and kidnappings in each state and year."
   ]
  },
  {
   "cell_type": "markdown",
   "id": "142e44a4",
   "metadata": {},
   "source": [
    "# 3.4 Creating a new table with the records from 02_District_wise_crimes_committed_against_ST_2001_2012.csv."
   ]
  },
  {
   "cell_type": "code",
   "execution_count": 78,
   "id": "adf0b788",
   "metadata": {},
   "outputs": [],
   "source": [
    "cursor.execute(\"CREATE TABLE crime_against_st_new2 (state UT TEXT,DISTRICT TEXT,Year INT,Murder INT,Rape INT,Kidnapping INT,Dacoity INT,Robbery INT,Arson  INT,Hurt INT,PCR INT,POA INT,Other Crimes INT) \")\n",
    "db.commit()"
   ]
  },
  {
   "cell_type": "code",
   "execution_count": 79,
   "id": "8184ae15",
   "metadata": {},
   "outputs": [],
   "source": [
    "with open('02_District_wise_crimes_committed_against_ST_2001_2012.csv','r') as file :\n",
    "    # r here is read as\n",
    "    no_records=0\n",
    "    for row in file:\n",
    "        cursor.execute(\"INSERT INTO crime_against_st_new VALUES(?,?,?,?,?,?,?,?,?,?,?,?,?)\",row.split(\",\"))#That will divide the row of data\n",
    "        no_records += 1"
   ]
  },
  {
   "cell_type": "code",
   "execution_count": 80,
   "id": "46fb8bb9",
   "metadata": {},
   "outputs": [
    {
     "name": "stdout",
     "output_type": "stream",
     "text": [
      "9019 Records Inserted\n"
     ]
    }
   ],
   "source": [
    "print(no_records,'Records Inserted')"
   ]
  },
  {
   "cell_type": "markdown",
   "id": "0a1a6d8a",
   "metadata": {},
   "source": [
    "# 3.5 Creating an SQL query to see which district has the most robberies or dacoities."
   ]
  },
  {
   "cell_type": "code",
   "execution_count": 81,
   "id": "9cb92d55",
   "metadata": {},
   "outputs": [
    {
     "name": "stdout",
     "output_type": "stream",
     "text": [
      "('\"STATE/UT\"', '\"DISTRICT\"', '\"Year\"', '\"Dacoity\"', '\"Robbery\"')\n",
      "('\"GUJARAT\"', '\"TOTAL\"', 2004, 29, 34)\n",
      "('\"NAGALAND\"', '\"TOTAL\"', 2001, 13, 24)\n",
      "('\"ASSAM\"', '\"TOTAL\"', 2005, 5, 14)\n",
      "('\"ODISHA\"', '\"TOTAL\"', 2009, 2, 12)\n",
      "('\"CHHATTISGARH\"', '\"TOTAL\"', 2001, 9, 7)\n",
      "('\"MADHYA PRADESH\"', '\"TOTAL\"', 2002, 2, 6)\n",
      "('\"MIZORAM\"', '\"TOTAL\"', 2002, 2, 5)\n",
      "('\"JHARKHAND\"', '\"TOTAL\"', 2012, 5, 5)\n",
      "('\"RAJASTHAN\"', '\"TOTAL\"', 2004, 0, 4)\n",
      "('\"MAHARASHTRA\"', '\"TOTAL\"', 2012, 4, 3)\n",
      "('\"KARNATAKA\"', '\"RAICHUR\"', 2004, 2, 2)\n",
      "('\"BIHAR\"', '\"PATNA\"', 2005, 0, 2)\n",
      "('\"ARUNACHAL PRADESH\"', '\"TOTAL\"', 2005, 1, 2)\n",
      "('\"TRIPURA\"', '\"SOUTH\"', 2010, 0, 1)\n",
      "('\"SIKKIM\"', '\"EAST\"', 2005, 1, 1)\n",
      "('\"KERALA\"', '\"WAYANADU\"', 2005, 0, 1)\n",
      "('\"ANDHRA PRADESH\"', '\"KARIMNAGAR\"', 2003, 0, 1)\n",
      "('\"WEST BENGAL\"', '\"24 PARGANAS NORTH\"', 2001, 0, 0)\n",
      "('\"UTTARAKHAND\"', '\"ALMORA\"', 2001, 0, 0)\n",
      "('\"UTTAR PRADESH\"', '\"AGRA\"', 2001, 0, 0)\n",
      "('\"TAMIL NADU\"', '\"ARIYALUR\"', 2001, 0, 0)\n",
      "('\"PUNJAB\"', '\"AMRITSAR\"', 2001, 0, 0)\n",
      "('\"PUDUCHERRY\"', '\"PONDICHERRY\"', 2001, 0, 0)\n",
      "('\"MEGHALAYA\"', '\"GARO HILLS EAST\"', 2001, 0, 0)\n",
      "('\"MANIPUR\"', '\"BISHNUPUR\"', 2001, 0, 0)\n",
      "('\"LAKSHADWEEP\"', '\"LAKSHADWEEP\"', 2001, 0, 0)\n",
      "('\"JAMMU & KASHMIR\"', '\"ANANTNAG\"', 2001, 0, 0)\n",
      "('\"HIMACHAL PRADESH\"', '\"BILASPUR\"', 2001, 1, 0)\n",
      "('\"HARYANA\"', '\"AMBALA\"', 2001, 0, 0)\n",
      "('\"GOA\"', '\"NORTH GOA\"', 2001, 0, 0)\n",
      "('\"DELHI\"', '\"CENTRAL\"', 2001, 0, 0)\n",
      "('\"DAMAN & DIU\"', '\"DAMAN\"', 2001, 0, 0)\n",
      "('\"D & N HAVELI\"', '\"D and N HAVELI\"', 2001, 0, 0)\n",
      "('\"CHANDIGARH\"', '\"CHANDIGARH\"', 2001, 0, 0)\n",
      "('\"A & N ISLANDS\"', '\"ANDAMAN\"', 2001, 0, 0)\n"
     ]
    }
   ],
   "source": [
    "result=cursor.execute(\"SELECT State UT,DISTRICT ,Year, MAX(Dacoity), MAX(Robbery) FROM crime_against_st_new WHERE NOT DISTRICT ='TOTAL' AND NOT DISTRICT='DELHI UT TOTAL' GROUP BY UT ORDER BY Robbery  DESC \")\n",
    "for row in result:\n",
    "    print(row)"
   ]
  },
  {
   "cell_type": "markdown",
   "id": "e85f4885",
   "metadata": {},
   "source": [
    "In 2001, the maximum number of Daocity and Robberies occurred in Gujarat's Dahod District."
   ]
  },
  {
   "cell_type": "markdown",
   "id": "60b70bd2",
   "metadata": {},
   "source": [
    "# 3.6 Creating an SQL query to see which districts (all) have the fewest murders."
   ]
  },
  {
   "cell_type": "code",
   "execution_count": 82,
   "id": "7cebd9e1",
   "metadata": {},
   "outputs": [
    {
     "name": "stdout",
     "output_type": "stream",
     "text": [
      "('\"A & N ISLANDS\"', '\"ANDAMAN\"', 0)\n",
      "('\"ANDHRA PRADESH\"', '\"ADILABAD\"', 0)\n",
      "('\"ARUNACHAL PRADESH\"', '\"CHANGLANG\"', 0)\n",
      "('\"ASSAM\"', '\"BARPETA\"', 0)\n",
      "('\"BIHAR\"', '\"ARWAL\"', 0)\n",
      "('\"CHANDIGARH\"', '\"CHANDIGARH\"', 0)\n",
      "('\"CHHATTISGARH\"', '\"BALRAMPUR\"', 0)\n",
      "('\"D & N HAVELI\"', '\"D and N HAVELI\"', 0)\n",
      "('\"DAMAN & DIU\"', '\"DAMAN\"', 0)\n",
      "('\"DELHI\"', '\"CENTRAL\"', 0)\n",
      "('\"GOA\"', '\"NORTH GOA\"', 0)\n",
      "('\"GUJARAT\"', '\"AHMEDABAD COMMR.\"', 0)\n",
      "('\"HARYANA\"', '\"AMBALA\"', 0)\n",
      "('\"HIMACHAL PRADESH\"', '\"BILASPUR\"', 0)\n",
      "('\"JAMMU & KASHMIR\"', '\"ANANTNAG\"', 0)\n",
      "('\"JHARKHAND\"', '\"BOKARO\"', 0)\n",
      "('\"KARNATAKA\"', '\"BAGALKOT\"', 0)\n",
      "('\"KERALA\"', '\"ALAPUZHA\"', 0)\n",
      "('\"LAKSHADWEEP\"', '\"LAKSHADWEEP\"', 0)\n",
      "('\"MADHYA PRADESH\"', '\"BETUL\"', 0)\n",
      "('\"MAHARASHTRA\"', '\"AKOLA\"', 0)\n",
      "('\"MANIPUR\"', '\"BISHNUPUR\"', 0)\n",
      "('\"MEGHALAYA\"', '\"GARO HILLS EAST\"', 0)\n",
      "('\"MIZORAM\"', '\"AIZAWL\"', 0)\n",
      "('\"NAGALAND\"', '\"DIMAPUR\"', 0)\n",
      "('\"ODISHA\"', '\"ANGUL\"', 0)\n",
      "('\"PUDUCHERRY\"', '\"PONDICHERRY\"', 0)\n",
      "('\"PUNJAB\"', '\"AMRITSAR\"', 0)\n",
      "('\"RAJASTHAN\"', '\"AJMER\"', 0)\n",
      "('\"SIKKIM\"', '\"NORTH\"', 0)\n",
      "('\"TAMIL NADU\"', '\"ARIYALUR\"', 0)\n",
      "('\"TRIPURA\"', '\"DHALAI\"', 0)\n",
      "('\"UTTAR PRADESH\"', '\"AGRA\"', 0)\n",
      "('\"UTTARAKHAND\"', '\"ALMORA\"', 0)\n",
      "('\"WEST BENGAL\"', '\"24 PARGANAS NORTH\"', 0)\n"
     ]
    }
   ],
   "source": [
    "result=cursor.execute(\"SELECT State UT,DISTRICT, Murder FROM crime_against_st_new WHERE Murder=(SELECT MIN(Murder) FROM crime_against_st_new) GROUP BY state \")\n",
    "for row in result:\n",
    "    print(row)"
   ]
  },
  {
   "cell_type": "markdown",
   "id": "03a31b49",
   "metadata": {},
   "source": [
    "The query's above result displays the lowest number of murders that occurred in each district."
   ]
  },
  {
   "cell_type": "markdown",
   "id": "215cb19c",
   "metadata": {},
   "source": [
    "# 3.7 To find the number of murders year-by-year and in ascending order by district, creating an SQL query."
   ]
  },
  {
   "cell_type": "code",
   "execution_count": 83,
   "id": "8cf140c7",
   "metadata": {},
   "outputs": [
    {
     "name": "stdout",
     "output_type": "stream",
     "text": [
      "('\"A & N ISLANDS\"', '\"ANDAMAN\"', 2001, 0)\n",
      "('\"ANDHRA PRADESH\"', '\"ADILABAD\"', 2001, 0)\n",
      "('\"ARUNACHAL PRADESH\"', '\"CHANGLANG\"', 2001, 0)\n",
      "('\"ASSAM\"', '\"BARPETA\"', 2001, 0)\n",
      "('\"CHANDIGARH\"', '\"CHANDIGARH\"', 2001, 0)\n",
      "('\"CHHATTISGARH\"', '\"BALRAMPUR\"', 2001, 0)\n",
      "('\"D & N HAVELI\"', '\"D and N HAVELI\"', 2001, 0)\n",
      "('\"DAMAN & DIU\"', '\"DAMAN\"', 2001, 0)\n",
      "('\"DELHI\"', '\"CENTRAL\"', 2001, 0)\n",
      "('\"GOA\"', '\"NORTH GOA\"', 2001, 0)\n",
      "('\"GUJARAT\"', '\"AHMEDABAD COMMR.\"', 2001, 0)\n",
      "('\"HARYANA\"', '\"AMBALA\"', 2001, 0)\n",
      "('\"HIMACHAL PRADESH\"', '\"BILASPUR\"', 2001, 0)\n",
      "('\"JAMMU & KASHMIR\"', '\"ANANTNAG\"', 2001, 0)\n",
      "('\"JHARKHAND\"', '\"BOKARO\"', 2001, 0)\n",
      "('\"KARNATAKA\"', '\"BAGALKOT\"', 2001, 0)\n",
      "('\"KERALA\"', '\"ALAPUZHA\"', 2001, 0)\n",
      "('\"LAKSHADWEEP\"', '\"LAKSHADWEEP\"', 2001, 0)\n",
      "('\"MANIPUR\"', '\"BISHNUPUR\"', 2001, 0)\n",
      "('\"MEGHALAYA\"', '\"GARO HILLS EAST\"', 2001, 0)\n",
      "('\"MIZORAM\"', '\"AIZAWL\"', 2001, 0)\n",
      "('\"NAGALAND\"', '\"DIMAPUR\"', 2001, 0)\n",
      "('\"ODISHA\"', '\"ANGUL\"', 2001, 0)\n",
      "('\"PUDUCHERRY\"', '\"PONDICHERRY\"', 2001, 0)\n",
      "('\"PUNJAB\"', '\"AMRITSAR\"', 2001, 0)\n",
      "('\"RAJASTHAN\"', '\"AJMER\"', 2001, 0)\n",
      "('\"TAMIL NADU\"', '\"ARIYALUR\"', 2001, 0)\n",
      "('\"TRIPURA\"', '\"DHALAI\"', 2001, 0)\n",
      "('\"UTTAR PRADESH\"', '\"AGRA\"', 2001, 0)\n",
      "('\"UTTARAKHAND\"', '\"ALMORA\"', 2001, 0)\n",
      "('\"WEST BENGAL\"', '\"24 PARGANAS NORTH\"', 2001, 0)\n",
      "('\"BIHAR\"', '\"ARARIA\"', 2001, 1)\n",
      "('\"MADHYA PRADESH\"', '\"BALAGHAT\"', 2001, 1)\n",
      "('\"MAHARASHTRA\"', '\"AHMEDNAGAR\"', 2001, 1)\n",
      "('\"SIKKIM\"', '\"EAST\"', 2001, 4)\n",
      "('\"STATE/UT\"', '\"DISTRICT\"', '\"Year\"', '\"Murder\"')\n"
     ]
    }
   ],
   "source": [
    "result=cursor.execute(\"SELECT  state, DISTRICT, Year,Murder FROM crime_against_st_new GROUP BY state ORDER BY Murder  \")\n",
    "for row in result:\n",
    "    print(row)"
   ]
  },
  {
   "cell_type": "markdown",
   "id": "8f20680c",
   "metadata": {},
   "source": [
    "District, year, and murders in ascending ranks."
   ]
  },
  {
   "cell_type": "markdown",
   "id": "9fb9654b",
   "metadata": {},
   "source": [
    "# 3.8.1 Creating a new table and adding records from 01_District_wise_crimes_committed_IPC_2001_2012.csv, including only the columns for YEAR, MURDER, ATTEMPT TO MURDER, and RAPE."
   ]
  },
  {
   "cell_type": "code",
   "execution_count": 84,
   "id": "6a8f3f12",
   "metadata": {},
   "outputs": [],
   "source": [
    "import pandas as pd"
   ]
  },
  {
   "cell_type": "code",
   "execution_count": 85,
   "id": "6b9293cf",
   "metadata": {},
   "outputs": [
    {
     "ename": "OperationalError",
     "evalue": "table crime_ipc_new3 already exists",
     "output_type": "error",
     "traceback": [
      "\u001b[1;31m---------------------------------------------------------------------------\u001b[0m",
      "\u001b[1;31mOperationalError\u001b[0m                          Traceback (most recent call last)",
      "Cell \u001b[1;32mIn[85], line 1\u001b[0m\n\u001b[1;32m----> 1\u001b[0m cursor\u001b[38;5;241m.\u001b[39mexecute (\u001b[38;5;124m\"\u001b[39m\u001b[38;5;124mCREATE TABLE crime_ipc_new3(STATE UT TEXT,DISTRICT TEXT,YEAR INT, MURDER INT,ATTEMPT_to_MURDER INT,RAPE INT) \u001b[39m\u001b[38;5;124m\"\u001b[39m)\n",
      "\u001b[1;31mOperationalError\u001b[0m: table crime_ipc_new3 already exists"
     ]
    }
   ],
   "source": [
    "cursor.execute (\"CREATE TABLE crime_ipc_new3(STATE UT TEXT,DISTRICT TEXT,YEAR INT, MURDER INT,ATTEMPT_to_MURDER INT,RAPE INT) \")"
   ]
  },
  {
   "cell_type": "code",
   "execution_count": 74,
   "id": "62ed828a",
   "metadata": {},
   "outputs": [],
   "source": [
    "db.commit()"
   ]
  },
  {
   "cell_type": "code",
   "execution_count": 87,
   "id": "471c931b",
   "metadata": {},
   "outputs": [
    {
     "ename": "ProgrammingError",
     "evalue": "Incorrect number of bindings supplied. The current statement uses 6, and there are 33 supplied.",
     "output_type": "error",
     "traceback": [
      "\u001b[1;31m---------------------------------------------------------------------------\u001b[0m",
      "\u001b[1;31mProgrammingError\u001b[0m                          Traceback (most recent call last)",
      "Cell \u001b[1;32mIn[87], line 5\u001b[0m\n\u001b[0;32m      3\u001b[0m no_records\u001b[38;5;241m=\u001b[39m\u001b[38;5;241m0\u001b[39m\n\u001b[0;32m      4\u001b[0m \u001b[38;5;28;01mfor\u001b[39;00m row \u001b[38;5;129;01min\u001b[39;00m file:\n\u001b[1;32m----> 5\u001b[0m     cursor\u001b[38;5;241m.\u001b[39mexecute(\u001b[38;5;124m\"\u001b[39m\u001b[38;5;124mINSERT INTO crime_ipc_new VALUES(?,?,?,?,?,?)\u001b[39m\u001b[38;5;124m\"\u001b[39m,row\u001b[38;5;241m.\u001b[39msplit(\u001b[38;5;124m\"\u001b[39m\u001b[38;5;124m,\u001b[39m\u001b[38;5;124m\"\u001b[39m))\u001b[38;5;66;03m#That will divide the row of data.\u001b[39;00m\n\u001b[0;32m      6\u001b[0m     db\u001b[38;5;241m.\u001b[39mcommit()\n\u001b[0;32m      7\u001b[0m     no_records \u001b[38;5;241m+\u001b[39m\u001b[38;5;241m=\u001b[39m \u001b[38;5;241m1\u001b[39m\n",
      "\u001b[1;31mProgrammingError\u001b[0m: Incorrect number of bindings supplied. The current statement uses 6, and there are 33 supplied."
     ]
    }
   ],
   "source": [
    "with open('01_District_wise_crimes_committed_IPC_2001_2012.csv','r') as file :\n",
    "    # r here is read as\n",
    "    no_records=0\n",
    "    for row in file:\n",
    "        cursor.execute(\"INSERT INTO crime_ipc_new VALUES(?,?,?,?,?,?)\",row.split(\",\"))#That will divide the row of data.\n",
    "        db.commit()\n",
    "        no_records += 1"
   ]
  },
  {
   "cell_type": "markdown",
   "id": "307570e6",
   "metadata": {},
   "source": [
    "# 3.8.2 To determine which district in each state or territory has the most murders annually, creating an SQL query. The STATE/UT, YEAR, DISTRICT, and MURDERS to be displayed in our output."
   ]
  },
  {
   "cell_type": "code",
   "execution_count": 88,
   "id": "a2289626",
   "metadata": {},
   "outputs": [],
   "source": [
    "result=cursor.execute(\"SELECT  state UT, Year,DISTRICT ,MAX(MURDER) FROM crime_ipc_new WHERE NOT DISTRICT='TOTAL' AND NOT DISTRICT='DELHI UT TOTAL' GROUP BY UT ORDER BY MURDER DESC\")\n",
    "for row in result:\n",
    "    print(row)"
   ]
  },
  {
   "cell_type": "code",
   "execution_count": 89,
   "id": "550a2c5b",
   "metadata": {},
   "outputs": [],
   "source": [
    "dfsql=pd.read_sql(\"SELECT  state UT, Year,DISTRICT ,MAX(MURDER) AS Murder FROM crime_ipc_new WHERE NOT DISTRICT='TOTAL' AND NOT DISTRICT='DELHI UT TOTAL' GROUP BY UT ORDER BY MURDER DESC \",db)"
   ]
  },
  {
   "cell_type": "code",
   "execution_count": 90,
   "id": "d7302384",
   "metadata": {},
   "outputs": [
    {
     "data": {
      "text/html": [
       "<div>\n",
       "<style scoped>\n",
       "    .dataframe tbody tr th:only-of-type {\n",
       "        vertical-align: middle;\n",
       "    }\n",
       "\n",
       "    .dataframe tbody tr th {\n",
       "        vertical-align: top;\n",
       "    }\n",
       "\n",
       "    .dataframe thead th {\n",
       "        text-align: right;\n",
       "    }\n",
       "</style>\n",
       "<table border=\"1\" class=\"dataframe\">\n",
       "  <thead>\n",
       "    <tr style=\"text-align: right;\">\n",
       "      <th></th>\n",
       "      <th>UT</th>\n",
       "      <th>YEAR</th>\n",
       "      <th>DISTRICT</th>\n",
       "      <th>Murder</th>\n",
       "    </tr>\n",
       "  </thead>\n",
       "  <tbody>\n",
       "  </tbody>\n",
       "</table>\n",
       "</div>"
      ],
      "text/plain": [
       "Empty DataFrame\n",
       "Columns: [UT, YEAR, DISTRICT, Murder]\n",
       "Index: []"
      ]
     },
     "execution_count": 90,
     "metadata": {},
     "output_type": "execute_result"
    }
   ],
   "source": [
    "#transforming to a dataframe\n",
    "dfsql"
   ]
  },
  {
   "cell_type": "markdown",
   "id": "87979d0b",
   "metadata": {},
   "source": [
    "# 3.8.3 The data (3.2 result) to be stored in a DataFrame. Districts that appear three or more years in the past to be analyzed, and the associated state/UT, district, murders, and year to be printed in decreasing order."
   ]
  },
  {
   "cell_type": "code",
   "execution_count": 91,
   "id": "33449e8f",
   "metadata": {},
   "outputs": [
    {
     "name": "stdout",
     "output_type": "stream",
     "text": [
      "('\"STATE/UT\"', '\"DISTRICT\"', '\"Year\"', '\"Rape\"', '\"Kidnapping and Abduction\"')\n",
      "('\"UTTAR PRADESH\"', '\"TOTAL\"', 2012, 3425, 7910)\n",
      "('\"UTTAR PRADESH\"', '\"TOTAL\"', 2011, 3406, 7525)\n",
      "('\"UTTAR PRADESH\"', '\"TOTAL\"', 2010, 3135, 5468)\n",
      "('\"UTTAR PRADESH\"', '\"TOTAL\"', 2009, 2998, 5078)\n",
      "('\"UTTAR PRADESH\"', '\"TOTAL\"', 2008, 2937, 4439)\n",
      "('\"UTTAR PRADESH\"', '\"TOTAL\"', 2007, 3010, 3363)\n",
      "('\"UTTAR PRADESH\"', '\"TOTAL\"', 2001, 2851, 2879)\n",
      "('\"UTTAR PRADESH\"', '\"TOTAL\"', 2006, 2900, 2551)\n",
      "('\"UTTAR PRADESH\"', '\"TOTAL\"', 2004, 2875, 2324)\n",
      "('\"UTTAR PRADESH\"', '\"TOTAL\"', 2002, 2891, 2298)\n",
      "('\"UTTAR PRADESH\"', '\"TOTAL\"', 2005, 2921, 2256)\n",
      "('\"RAJASTHAN\"', '\"TOTAL\"', 2003, 2738, 1750)\n"
     ]
    }
   ],
   "source": [
    "#.3.2 Creating an SQL query to determine which state, district, and year had the greatest number of rapes and kidnappings.\n",
    "data=cursor.execute(\"SELECT  state UT, DISTRICT ,Year ,MAX(Rape), MAX(Kidnapping) FROM crime_against_women_new1 WHERE NOT DISTRICT='TOTAL' AND NOT DISTRICT='DELHI UT TOTAL' GROUP BY Year ORDER BY Kidnapping DESC\")\n",
    "for row in data:\n",
    "    print(row)"
   ]
  },
  {
   "cell_type": "markdown",
   "id": "dd04388d",
   "metadata": {},
   "source": [
    "# Transforming to DataFrame"
   ]
  },
  {
   "cell_type": "code",
   "execution_count": 92,
   "id": "386be91b",
   "metadata": {},
   "outputs": [],
   "source": [
    "dataframe=pd.read_sql(\"SELECT  state UT, DISTRICT ,Year ,MAX(Rape) AS Rape, MAX(Kidnapping) AS Kidnapping FROM crime_against_women_new1 WHERE NOT DISTRICT='TOTAL' AND NOT DISTRICT='DELHI UT TOTAL' GROUP BY Year ORDER BY Kidnapping DESC\",db)"
   ]
  },
  {
   "cell_type": "code",
   "execution_count": 93,
   "id": "d2d49e9a",
   "metadata": {},
   "outputs": [
    {
     "data": {
      "text/html": [
       "<div>\n",
       "<style scoped>\n",
       "    .dataframe tbody tr th:only-of-type {\n",
       "        vertical-align: middle;\n",
       "    }\n",
       "\n",
       "    .dataframe tbody tr th {\n",
       "        vertical-align: top;\n",
       "    }\n",
       "\n",
       "    .dataframe thead th {\n",
       "        text-align: right;\n",
       "    }\n",
       "</style>\n",
       "<table border=\"1\" class=\"dataframe\">\n",
       "  <thead>\n",
       "    <tr style=\"text-align: right;\">\n",
       "      <th></th>\n",
       "      <th>UT</th>\n",
       "      <th>DISTRICT</th>\n",
       "      <th>Year</th>\n",
       "      <th>Rape</th>\n",
       "      <th>Kidnapping</th>\n",
       "    </tr>\n",
       "  </thead>\n",
       "  <tbody>\n",
       "    <tr>\n",
       "      <th>0</th>\n",
       "      <td>\"STATE/UT\"</td>\n",
       "      <td>\"DISTRICT\"</td>\n",
       "      <td>\"Year\"</td>\n",
       "      <td>\"Rape\"</td>\n",
       "      <td>\"Kidnapping and Abduction\"</td>\n",
       "    </tr>\n",
       "    <tr>\n",
       "      <th>1</th>\n",
       "      <td>\"UTTAR PRADESH\"</td>\n",
       "      <td>\"TOTAL\"</td>\n",
       "      <td>2012</td>\n",
       "      <td>3425</td>\n",
       "      <td>7910</td>\n",
       "    </tr>\n",
       "    <tr>\n",
       "      <th>2</th>\n",
       "      <td>\"UTTAR PRADESH\"</td>\n",
       "      <td>\"TOTAL\"</td>\n",
       "      <td>2011</td>\n",
       "      <td>3406</td>\n",
       "      <td>7525</td>\n",
       "    </tr>\n",
       "    <tr>\n",
       "      <th>3</th>\n",
       "      <td>\"UTTAR PRADESH\"</td>\n",
       "      <td>\"TOTAL\"</td>\n",
       "      <td>2010</td>\n",
       "      <td>3135</td>\n",
       "      <td>5468</td>\n",
       "    </tr>\n",
       "    <tr>\n",
       "      <th>4</th>\n",
       "      <td>\"UTTAR PRADESH\"</td>\n",
       "      <td>\"TOTAL\"</td>\n",
       "      <td>2009</td>\n",
       "      <td>2998</td>\n",
       "      <td>5078</td>\n",
       "    </tr>\n",
       "    <tr>\n",
       "      <th>5</th>\n",
       "      <td>\"UTTAR PRADESH\"</td>\n",
       "      <td>\"TOTAL\"</td>\n",
       "      <td>2008</td>\n",
       "      <td>2937</td>\n",
       "      <td>4439</td>\n",
       "    </tr>\n",
       "    <tr>\n",
       "      <th>6</th>\n",
       "      <td>\"UTTAR PRADESH\"</td>\n",
       "      <td>\"TOTAL\"</td>\n",
       "      <td>2007</td>\n",
       "      <td>3010</td>\n",
       "      <td>3363</td>\n",
       "    </tr>\n",
       "    <tr>\n",
       "      <th>7</th>\n",
       "      <td>\"UTTAR PRADESH\"</td>\n",
       "      <td>\"TOTAL\"</td>\n",
       "      <td>2001</td>\n",
       "      <td>2851</td>\n",
       "      <td>2879</td>\n",
       "    </tr>\n",
       "    <tr>\n",
       "      <th>8</th>\n",
       "      <td>\"UTTAR PRADESH\"</td>\n",
       "      <td>\"TOTAL\"</td>\n",
       "      <td>2006</td>\n",
       "      <td>2900</td>\n",
       "      <td>2551</td>\n",
       "    </tr>\n",
       "    <tr>\n",
       "      <th>9</th>\n",
       "      <td>\"UTTAR PRADESH\"</td>\n",
       "      <td>\"TOTAL\"</td>\n",
       "      <td>2004</td>\n",
       "      <td>2875</td>\n",
       "      <td>2324</td>\n",
       "    </tr>\n",
       "    <tr>\n",
       "      <th>10</th>\n",
       "      <td>\"UTTAR PRADESH\"</td>\n",
       "      <td>\"TOTAL\"</td>\n",
       "      <td>2002</td>\n",
       "      <td>2891</td>\n",
       "      <td>2298</td>\n",
       "    </tr>\n",
       "    <tr>\n",
       "      <th>11</th>\n",
       "      <td>\"UTTAR PRADESH\"</td>\n",
       "      <td>\"TOTAL\"</td>\n",
       "      <td>2005</td>\n",
       "      <td>2921</td>\n",
       "      <td>2256</td>\n",
       "    </tr>\n",
       "    <tr>\n",
       "      <th>12</th>\n",
       "      <td>\"RAJASTHAN\"</td>\n",
       "      <td>\"TOTAL\"</td>\n",
       "      <td>2003</td>\n",
       "      <td>2738</td>\n",
       "      <td>1750</td>\n",
       "    </tr>\n",
       "  </tbody>\n",
       "</table>\n",
       "</div>"
      ],
      "text/plain": [
       "                 UT    DISTRICT    Year    Rape                  Kidnapping\n",
       "0        \"STATE/UT\"  \"DISTRICT\"  \"Year\"  \"Rape\"  \"Kidnapping and Abduction\"\n",
       "1   \"UTTAR PRADESH\"     \"TOTAL\"    2012    3425                        7910\n",
       "2   \"UTTAR PRADESH\"     \"TOTAL\"    2011    3406                        7525\n",
       "3   \"UTTAR PRADESH\"     \"TOTAL\"    2010    3135                        5468\n",
       "4   \"UTTAR PRADESH\"     \"TOTAL\"    2009    2998                        5078\n",
       "5   \"UTTAR PRADESH\"     \"TOTAL\"    2008    2937                        4439\n",
       "6   \"UTTAR PRADESH\"     \"TOTAL\"    2007    3010                        3363\n",
       "7   \"UTTAR PRADESH\"     \"TOTAL\"    2001    2851                        2879\n",
       "8   \"UTTAR PRADESH\"     \"TOTAL\"    2006    2900                        2551\n",
       "9   \"UTTAR PRADESH\"     \"TOTAL\"    2004    2875                        2324\n",
       "10  \"UTTAR PRADESH\"     \"TOTAL\"    2002    2891                        2298\n",
       "11  \"UTTAR PRADESH\"     \"TOTAL\"    2005    2921                        2256\n",
       "12      \"RAJASTHAN\"     \"TOTAL\"    2003    2738                        1750"
      ]
     },
     "execution_count": 93,
     "metadata": {},
     "output_type": "execute_result"
    }
   ],
   "source": [
    "dataframe"
   ]
  },
  {
   "cell_type": "code",
   "execution_count": 94,
   "id": "e3599a6b",
   "metadata": {},
   "outputs": [
    {
     "data": {
      "text/plain": [
       "\"TOTAL\"       12\n",
       "\"DISTRICT\"     1\n",
       "Name: DISTRICT, dtype: int64"
      ]
     },
     "execution_count": 94,
     "metadata": {},
     "output_type": "execute_result"
    }
   ],
   "source": [
    "dataframe['DISTRICT'].value_counts()"
   ]
  },
  {
   "cell_type": "code",
   "execution_count": 95,
   "id": "9eccdda7",
   "metadata": {},
   "outputs": [],
   "source": [
    "from sqlalchemy import create_engine"
   ]
  },
  {
   "cell_type": "markdown",
   "id": "bcb08fd9",
   "metadata": {},
   "source": [
    "# Examining districts that have been there for three or more years, and printing the state/UT, district, number of homicides, and year in descending order."
   ]
  },
  {
   "cell_type": "code",
   "execution_count": 97,
   "id": "21a5240e",
   "metadata": {},
   "outputs": [],
   "source": [
    "engine = create_engine(\"sqlite+pysqlite:///:memory:\")"
   ]
  },
  {
   "cell_type": "code",
   "execution_count": 98,
   "id": "d7cdd515",
   "metadata": {},
   "outputs": [
    {
     "data": {
      "text/plain": [
       "13"
      ]
     },
     "execution_count": 98,
     "metadata": {},
     "output_type": "execute_result"
    }
   ],
   "source": [
    "dataframe.to_sql('district_data', engine)"
   ]
  },
  {
   "cell_type": "code",
   "execution_count": 99,
   "id": "708c8cd6",
   "metadata": {},
   "outputs": [],
   "source": [
    "from sqlalchemy import text"
   ]
  },
  {
   "cell_type": "code",
   "execution_count": 100,
   "id": "fa60a3fe",
   "metadata": {},
   "outputs": [
    {
     "name": "stdout",
     "output_type": "stream",
     "text": [
      "('\"UTTAR PRADESH\"', '\"TOTAL\"', '2012')\n",
      "('\"UTTAR PRADESH\"', '\"TOTAL\"', '2011')\n",
      "('\"UTTAR PRADESH\"', '\"TOTAL\"', '2010')\n"
     ]
    }
   ],
   "source": [
    "with engine.connect() as conn:\n",
    "    result = conn.execute(text(\"select UT, DISTRICT ,Year FROM district_data ORDER BY UT DESC LIMIT 3\"))\n",
    "    for row in result:\n",
    "        print(row)"
   ]
  },
  {
   "cell_type": "markdown",
   "id": "3804b950",
   "metadata": {},
   "source": [
    "According to the West Bengal results above, Murshidabad is the district that showed up more than three times in a given year."
   ]
  },
  {
   "cell_type": "markdown",
   "id": "786729f9",
   "metadata": {},
   "source": [
    "# 3.8.4 Making use of the proper graphs to display our data (the 3.8.3)"
   ]
  },
  {
   "cell_type": "code",
   "execution_count": 101,
   "id": "c53a810f",
   "metadata": {},
   "outputs": [],
   "source": [
    "import matplotlib.pyplot as plt\n",
    "import seaborn as sns"
   ]
  },
  {
   "cell_type": "code",
   "execution_count": 104,
   "id": "9f8bbf0a",
   "metadata": {},
   "outputs": [
    {
     "data": {
      "image/png": "[encoded data removed]",
      "text/plain": [
       "<Figure size 640x480 with 1 Axes>"
      ]
     },
     "metadata": {},
     "output_type": "display_data"
    }
   ],
   "source": [
    "dataframe['Rape'] = pd.to_numeric(dataframe['Rape'], errors='coerce')\n",
    "sns.barplot(x=dataframe['DISTRICT'], y=dataframe['Rape'])\n",
    "plt.show()"
   ]
  },
  {
   "cell_type": "markdown",
   "id": "c7c5c7cb",
   "metadata": {},
   "source": [
    "According to the dataframe, the district in West Bengal with the highest number of rape cases is Murshidabad, whereas the district in Assam with the lowest number of rape crimes is Guwahati City."
   ]
  },
  {
   "cell_type": "markdown",
   "id": "6bffe70b",
   "metadata": {},
   "source": [
    "# District vs. Kidnapping Analysis"
   ]
  },
  {
   "cell_type": "code",
   "execution_count": 106,
   "id": "8509db5e",
   "metadata": {},
   "outputs": [
    {
     "data": {
      "image/png": "[encoded data removed]",
      "text/plain": [
       "<Figure size 640x480 with 1 Axes>"
      ]
     },
     "metadata": {},
     "output_type": "display_data"
    }
   ],
   "source": [
    "dataframe['Kidnapping'] = pd.to_numeric(dataframe['Kidnapping'], errors='coerce')\n",
    "sns.barplot(x=dataframe['DISTRICT'], y=dataframe['Kidnapping'])\n",
    "plt.show()"
   ]
  },
  {
   "cell_type": "markdown",
   "id": "9699753f",
   "metadata": {},
   "source": [
    "# According to the resultant Dataframe, the district of Murshidabad in West Bengal has the largest number of kidnapping cases, while the district of Guwahati City in Assam has the lowest number of cases."
   ]
  },
  {
   "cell_type": "code",
   "execution_count": null,
   "id": "50aaf0d8",
   "metadata": {},
   "outputs": [],
   "source": []
  }
 ],
 "metadata": {
  "kernelspec": {
   "display_name": "Python 3 (ipykernel)",
   "language": "python",
   "name": "python3"
  },
  "language_info": {
   "codemirror_mode": {
    "name": "ipython",
    "version": 3
   },
   "file_extension": ".py",
   "mimetype": "text/x-python",
   "name": "python",
   "nbconvert_exporter": "python",
   "pygments_lexer": "ipython3",
   "version": "3.11.3"
  }
 },
 "nbformat": 4,
 "nbformat_minor": 5
}
